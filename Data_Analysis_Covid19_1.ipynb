{
  "nbformat": 4,
  "nbformat_minor": 0,
  "metadata": {
    "kernelspec": {
      "display_name": "Python 3",
      "language": "python",
      "name": "python3"
    },
    "language_info": {
      "codemirror_mode": {
        "name": "ipython",
        "version": 3
      },
      "file_extension": ".py",
      "mimetype": "text/x-python",
      "name": "python",
      "nbconvert_exporter": "python",
      "pygments_lexer": "ipython3",
      "version": "3.6.2"
    },
    "colab": {
      "name": "Data_Analysis_Covid19_1.ipynb",
      "provenance": [],
      "collapsed_sections": [],
      "include_colab_link": true
    }
  },
  "cells": [
    {
      "cell_type": "markdown",
      "metadata": {
        "id": "view-in-github",
        "colab_type": "text"
      },
      "source": [
        "<a href=\"https://colab.research.google.com/github/DevRichan/Data-Analysis-Covid19/blob/master/Data_Analysis_Covid19_1.ipynb\" target=\"_parent\"><img src=\"https://colab.research.google.com/assets/colab-badge.svg\" alt=\"Open In Colab\"/></a>"
      ]
    },
    {
      "cell_type": "code",
      "metadata": {
        "id": "HXi7rVC1qc3x",
        "colab_type": "code",
        "colab": {}
      },
      "source": [
        "#Import Library\n",
        "import json\n",
        "import numpy as np\n",
        "import pandas as pd\n",
        "import requests"
      ],
      "execution_count": 1,
      "outputs": []
    },
    {
      "cell_type": "code",
      "metadata": {
        "id": "cru22Ci9qc31",
        "colab_type": "code",
        "colab": {}
      },
      "source": [
        "# Function GET API\n",
        "def get_json(api_url):\n",
        "    response = requests.get(api_url)\n",
        "    if response.status_code == 200 :\n",
        "        return json.loads(response.content.decode('utf-8'))\n",
        "    else:\n",
        "        None"
      ],
      "execution_count": 2,
      "outputs": []
    },
    {
      "cell_type": "code",
      "metadata": {
        "id": "dYn9frVKqc35",
        "colab_type": "code",
        "colab": {
          "base_uri": "https://localhost:8080/",
          "height": 153
        },
        "outputId": "5d38a0a9-818d-4d4d-9eba-967e66644e03"
      },
      "source": [
        "# Call API (date)\n",
        "record_date = '2020-08-17'\n",
        "covid_url = 'https://covid19-api.org/api/status?date='+record_date\n",
        "df_covid_worldwide = pd.io.json.json_normalize(get_json(covid_url))\n",
        "print(df_covid_worldwide.head(5))"
      ],
      "execution_count": 3,
      "outputs": [
        {
          "output_type": "stream",
          "text": [
            "  country          last_update    cases  deaths  recovered\n",
            "0      US  2020-08-16T23:27:50  5401167  170019    1833067\n",
            "1      BR  2020-08-16T23:27:50  3340197  107852    2655017\n",
            "2      IN  2020-08-16T23:27:50  2589682   49980    1862258\n",
            "3      RU  2020-08-16T23:27:50   920719   15653     731444\n",
            "4      ZA  2020-08-16T23:27:50   587345   11839     472377\n"
          ],
          "name": "stdout"
        },
        {
          "output_type": "stream",
          "text": [
            "/usr/local/lib/python3.6/dist-packages/ipykernel_launcher.py:4: FutureWarning: pandas.io.json.json_normalize is deprecated, use pandas.json_normalize instead\n",
            "  after removing the cwd from sys.path.\n"
          ],
          "name": "stderr"
        }
      ]
    },
    {
      "cell_type": "code",
      "metadata": {
        "id": "SasaTiU3qc3-",
        "colab_type": "code",
        "colab": {
          "base_uri": "https://localhost:8080/",
          "height": 204
        },
        "outputId": "82826394-813e-43b1-a354-2f70eaf118ea"
      },
      "source": [
        "# Change date format 1\n",
        "df_covid_worldwide['last_update'] = pd.to_datetime(df_covid_worldwide['last_update'], format='%Y-%m-%d %H:%M:%S')\n",
        "df_covid_worldwide.head(5)"
      ],
      "execution_count": 4,
      "outputs": [
        {
          "output_type": "execute_result",
          "data": {
            "text/html": [
              "<div>\n",
              "<style scoped>\n",
              "    .dataframe tbody tr th:only-of-type {\n",
              "        vertical-align: middle;\n",
              "    }\n",
              "\n",
              "    .dataframe tbody tr th {\n",
              "        vertical-align: top;\n",
              "    }\n",
              "\n",
              "    .dataframe thead th {\n",
              "        text-align: right;\n",
              "    }\n",
              "</style>\n",
              "<table border=\"1\" class=\"dataframe\">\n",
              "  <thead>\n",
              "    <tr style=\"text-align: right;\">\n",
              "      <th></th>\n",
              "      <th>country</th>\n",
              "      <th>last_update</th>\n",
              "      <th>cases</th>\n",
              "      <th>deaths</th>\n",
              "      <th>recovered</th>\n",
              "    </tr>\n",
              "  </thead>\n",
              "  <tbody>\n",
              "    <tr>\n",
              "      <th>0</th>\n",
              "      <td>US</td>\n",
              "      <td>2020-08-16 23:27:50</td>\n",
              "      <td>5401167</td>\n",
              "      <td>170019</td>\n",
              "      <td>1833067</td>\n",
              "    </tr>\n",
              "    <tr>\n",
              "      <th>1</th>\n",
              "      <td>BR</td>\n",
              "      <td>2020-08-16 23:27:50</td>\n",
              "      <td>3340197</td>\n",
              "      <td>107852</td>\n",
              "      <td>2655017</td>\n",
              "    </tr>\n",
              "    <tr>\n",
              "      <th>2</th>\n",
              "      <td>IN</td>\n",
              "      <td>2020-08-16 23:27:50</td>\n",
              "      <td>2589682</td>\n",
              "      <td>49980</td>\n",
              "      <td>1862258</td>\n",
              "    </tr>\n",
              "    <tr>\n",
              "      <th>3</th>\n",
              "      <td>RU</td>\n",
              "      <td>2020-08-16 23:27:50</td>\n",
              "      <td>920719</td>\n",
              "      <td>15653</td>\n",
              "      <td>731444</td>\n",
              "    </tr>\n",
              "    <tr>\n",
              "      <th>4</th>\n",
              "      <td>ZA</td>\n",
              "      <td>2020-08-16 23:27:50</td>\n",
              "      <td>587345</td>\n",
              "      <td>11839</td>\n",
              "      <td>472377</td>\n",
              "    </tr>\n",
              "  </tbody>\n",
              "</table>\n",
              "</div>"
            ],
            "text/plain": [
              "  country         last_update    cases  deaths  recovered\n",
              "0      US 2020-08-16 23:27:50  5401167  170019    1833067\n",
              "1      BR 2020-08-16 23:27:50  3340197  107852    2655017\n",
              "2      IN 2020-08-16 23:27:50  2589682   49980    1862258\n",
              "3      RU 2020-08-16 23:27:50   920719   15653     731444\n",
              "4      ZA 2020-08-16 23:27:50   587345   11839     472377"
            ]
          },
          "metadata": {
            "tags": []
          },
          "execution_count": 4
        }
      ]
    },
    {
      "cell_type": "code",
      "metadata": {
        "id": "irldQssDqc4C",
        "colab_type": "code",
        "colab": {
          "base_uri": "https://localhost:8080/",
          "height": 204
        },
        "outputId": "971d2f9b-265d-4e06-eb56-dddbb87bcc26"
      },
      "source": [
        "# Change date format 2\n",
        "df_covid_worldwide['last_update'] = df_covid_worldwide['last_update'].apply(lambda x: x.date())\n",
        "df_covid_worldwide.head(5)"
      ],
      "execution_count": 5,
      "outputs": [
        {
          "output_type": "execute_result",
          "data": {
            "text/html": [
              "<div>\n",
              "<style scoped>\n",
              "    .dataframe tbody tr th:only-of-type {\n",
              "        vertical-align: middle;\n",
              "    }\n",
              "\n",
              "    .dataframe tbody tr th {\n",
              "        vertical-align: top;\n",
              "    }\n",
              "\n",
              "    .dataframe thead th {\n",
              "        text-align: right;\n",
              "    }\n",
              "</style>\n",
              "<table border=\"1\" class=\"dataframe\">\n",
              "  <thead>\n",
              "    <tr style=\"text-align: right;\">\n",
              "      <th></th>\n",
              "      <th>country</th>\n",
              "      <th>last_update</th>\n",
              "      <th>cases</th>\n",
              "      <th>deaths</th>\n",
              "      <th>recovered</th>\n",
              "    </tr>\n",
              "  </thead>\n",
              "  <tbody>\n",
              "    <tr>\n",
              "      <th>0</th>\n",
              "      <td>US</td>\n",
              "      <td>2020-08-16</td>\n",
              "      <td>5401167</td>\n",
              "      <td>170019</td>\n",
              "      <td>1833067</td>\n",
              "    </tr>\n",
              "    <tr>\n",
              "      <th>1</th>\n",
              "      <td>BR</td>\n",
              "      <td>2020-08-16</td>\n",
              "      <td>3340197</td>\n",
              "      <td>107852</td>\n",
              "      <td>2655017</td>\n",
              "    </tr>\n",
              "    <tr>\n",
              "      <th>2</th>\n",
              "      <td>IN</td>\n",
              "      <td>2020-08-16</td>\n",
              "      <td>2589682</td>\n",
              "      <td>49980</td>\n",
              "      <td>1862258</td>\n",
              "    </tr>\n",
              "    <tr>\n",
              "      <th>3</th>\n",
              "      <td>RU</td>\n",
              "      <td>2020-08-16</td>\n",
              "      <td>920719</td>\n",
              "      <td>15653</td>\n",
              "      <td>731444</td>\n",
              "    </tr>\n",
              "    <tr>\n",
              "      <th>4</th>\n",
              "      <td>ZA</td>\n",
              "      <td>2020-08-16</td>\n",
              "      <td>587345</td>\n",
              "      <td>11839</td>\n",
              "      <td>472377</td>\n",
              "    </tr>\n",
              "  </tbody>\n",
              "</table>\n",
              "</div>"
            ],
            "text/plain": [
              "  country last_update    cases  deaths  recovered\n",
              "0      US  2020-08-16  5401167  170019    1833067\n",
              "1      BR  2020-08-16  3340197  107852    2655017\n",
              "2      IN  2020-08-16  2589682   49980    1862258\n",
              "3      RU  2020-08-16   920719   15653     731444\n",
              "4      ZA  2020-08-16   587345   11839     472377"
            ]
          },
          "metadata": {
            "tags": []
          },
          "execution_count": 5
        }
      ]
    },
    {
      "cell_type": "code",
      "metadata": {
        "id": "htdVx4S6qc4G",
        "colab_type": "code",
        "colab": {
          "base_uri": "https://localhost:8080/",
          "height": 153
        },
        "outputId": "0828be29-d7df-4507-b716-f26c8428934d"
      },
      "source": [
        "# Call API Countries\n",
        "countries_url = 'https://covid19-api.org/api/countries'\n",
        "df_countries = pd.io.json.json_normalize(get_json(countries_url))\n",
        "df_countries = df_countries.rename(columns={'alpha2': 'country'})[['name','country']]\n",
        "\n",
        "print(df_countries.head())"
      ],
      "execution_count": 6,
      "outputs": [
        {
          "output_type": "stream",
          "text": [
            "          name country\n",
            "0  Afghanistan      AF\n",
            "1      Albania      AL\n",
            "2      Algeria      DZ\n",
            "3      Andorra      AD\n",
            "4       Angola      AO\n"
          ],
          "name": "stdout"
        },
        {
          "output_type": "stream",
          "text": [
            "/usr/local/lib/python3.6/dist-packages/ipykernel_launcher.py:3: FutureWarning: pandas.io.json.json_normalize is deprecated, use pandas.json_normalize instead\n",
            "  This is separate from the ipykernel package so we can avoid doing imports until\n"
          ],
          "name": "stderr"
        }
      ]
    },
    {
      "cell_type": "code",
      "metadata": {
        "id": "FJcdA2rpqc4J",
        "colab_type": "code",
        "colab": {
          "base_uri": "https://localhost:8080/",
          "height": 119
        },
        "outputId": "6cfddfb3-3e8b-4fe8-bcf4-52d5de8d273a"
      },
      "source": [
        "# Merge data and countries\n",
        "df_covid_denormalized = pd.merge(df_covid_worldwide, df_countries, on='country')\n",
        "print(df_covid_denormalized.head(5))"
      ],
      "execution_count": 7,
      "outputs": [
        {
          "output_type": "stream",
          "text": [
            "  country last_update    cases  deaths  recovered                      name\n",
            "0      US  2020-08-16  5401167  170019    1833067  United States of America\n",
            "1      BR  2020-08-16  3340197  107852    2655017                    Brazil\n",
            "2      IN  2020-08-16  2589682   49980    1862258                     India\n",
            "3      RU  2020-08-16   920719   15653     731444        Russian Federation\n",
            "4      ZA  2020-08-16   587345   11839     472377              South Africa\n"
          ],
          "name": "stdout"
        }
      ]
    },
    {
      "cell_type": "code",
      "metadata": {
        "id": "iCmmtY_Qqc4O",
        "colab_type": "code",
        "colab": {
          "base_uri": "https://localhost:8080/",
          "height": 153
        },
        "outputId": "36682007-7a97-4fb7-92e1-53ab921fbde7"
      },
      "source": [
        "# Add fatality_ratio table for each country\n",
        "df_covid_denormalized['fatality_ratio'] = df_covid_denormalized['deaths']/df_covid_denormalized['cases']\n",
        "# print(df_covid_denormalized['deaths'].head(2))\n",
        "# print(df_covid_denormalized['cases'].head(2))\n",
        "print(df_covid_denormalized.head(5))"
      ],
      "execution_count": 8,
      "outputs": [
        {
          "output_type": "stream",
          "text": [
            "  country last_update  ...                      name  fatality_ratio\n",
            "0      US  2020-08-16  ...  United States of America        0.031478\n",
            "1      BR  2020-08-16  ...                    Brazil        0.032289\n",
            "2      IN  2020-08-16  ...                     India        0.019300\n",
            "3      RU  2020-08-16  ...        Russian Federation        0.017001\n",
            "4      ZA  2020-08-16  ...              South Africa        0.020157\n",
            "\n",
            "[5 rows x 7 columns]\n"
          ],
          "name": "stdout"
        }
      ]
    },
    {
      "cell_type": "code",
      "metadata": {
        "id": "fuL4HA9Uqc4R",
        "colab_type": "code",
        "colab": {
          "base_uri": "https://localhost:8080/",
          "height": 669
        },
        "outputId": "374a9726-c652-4cb5-9c40-d60c36114b1d"
      },
      "source": [
        "# Countries with the Highest Fatality Ratio\n",
        "df_top_20_fatality_rate = df_covid_denormalized.sort_values(by='fatality_ratio',ascending=False).head(20)\n",
        "df_top_20_fatality_rate"
      ],
      "execution_count": 9,
      "outputs": [
        {
          "output_type": "execute_result",
          "data": {
            "text/html": [
              "<div>\n",
              "<style scoped>\n",
              "    .dataframe tbody tr th:only-of-type {\n",
              "        vertical-align: middle;\n",
              "    }\n",
              "\n",
              "    .dataframe tbody tr th {\n",
              "        vertical-align: top;\n",
              "    }\n",
              "\n",
              "    .dataframe thead th {\n",
              "        text-align: right;\n",
              "    }\n",
              "</style>\n",
              "<table border=\"1\" class=\"dataframe\">\n",
              "  <thead>\n",
              "    <tr style=\"text-align: right;\">\n",
              "      <th></th>\n",
              "      <th>country</th>\n",
              "      <th>last_update</th>\n",
              "      <th>cases</th>\n",
              "      <th>deaths</th>\n",
              "      <th>recovered</th>\n",
              "      <th>name</th>\n",
              "      <th>fatality_ratio</th>\n",
              "    </tr>\n",
              "  </thead>\n",
              "  <tbody>\n",
              "    <tr>\n",
              "      <th>134</th>\n",
              "      <td>YE</td>\n",
              "      <td>2020-08-16</td>\n",
              "      <td>1869</td>\n",
              "      <td>530</td>\n",
              "      <td>1013</td>\n",
              "      <td>Yemen</td>\n",
              "      <td>0.283574</td>\n",
              "    </tr>\n",
              "    <tr>\n",
              "      <th>11</th>\n",
              "      <td>GB</td>\n",
              "      <td>2020-08-16</td>\n",
              "      <td>320343</td>\n",
              "      <td>46791</td>\n",
              "      <td>1486</td>\n",
              "      <td>United Kingdom of Great Britain and Northern I...</td>\n",
              "      <td>0.146065</td>\n",
              "    </tr>\n",
              "    <tr>\n",
              "      <th>16</th>\n",
              "      <td>IT</td>\n",
              "      <td>2020-08-16</td>\n",
              "      <td>253915</td>\n",
              "      <td>35396</td>\n",
              "      <td>203786</td>\n",
              "      <td>Italy</td>\n",
              "      <td>0.139401</td>\n",
              "    </tr>\n",
              "    <tr>\n",
              "      <th>36</th>\n",
              "      <td>BE</td>\n",
              "      <td>2020-08-16</td>\n",
              "      <td>77869</td>\n",
              "      <td>9935</td>\n",
              "      <td>17981</td>\n",
              "      <td>Belgium</td>\n",
              "      <td>0.127586</td>\n",
              "    </tr>\n",
              "    <tr>\n",
              "      <th>105</th>\n",
              "      <td>HU</td>\n",
              "      <td>2020-08-16</td>\n",
              "      <td>4916</td>\n",
              "      <td>608</td>\n",
              "      <td>3623</td>\n",
              "      <td>Hungary</td>\n",
              "      <td>0.123678</td>\n",
              "    </tr>\n",
              "    <tr>\n",
              "      <th>17</th>\n",
              "      <td>FR</td>\n",
              "      <td>2020-08-16</td>\n",
              "      <td>252965</td>\n",
              "      <td>30410</td>\n",
              "      <td>83993</td>\n",
              "      <td>France</td>\n",
              "      <td>0.120214</td>\n",
              "    </tr>\n",
              "    <tr>\n",
              "      <th>6</th>\n",
              "      <td>MX</td>\n",
              "      <td>2020-08-16</td>\n",
              "      <td>517714</td>\n",
              "      <td>56543</td>\n",
              "      <td>418164</td>\n",
              "      <td>Mexico</td>\n",
              "      <td>0.109217</td>\n",
              "    </tr>\n",
              "    <tr>\n",
              "      <th>191</th>\n",
              "      <td>EH</td>\n",
              "      <td>2020-08-16</td>\n",
              "      <td>10</td>\n",
              "      <td>1</td>\n",
              "      <td>8</td>\n",
              "      <td>Western Sahara</td>\n",
              "      <td>0.100000</td>\n",
              "    </tr>\n",
              "    <tr>\n",
              "      <th>40</th>\n",
              "      <td>NL</td>\n",
              "      <td>2020-08-16</td>\n",
              "      <td>64451</td>\n",
              "      <td>6194</td>\n",
              "      <td>345</td>\n",
              "      <td>Netherlands</td>\n",
              "      <td>0.096104</td>\n",
              "    </tr>\n",
              "    <tr>\n",
              "      <th>10</th>\n",
              "      <td>ES</td>\n",
              "      <td>2020-08-16</td>\n",
              "      <td>342813</td>\n",
              "      <td>28617</td>\n",
              "      <td>150376</td>\n",
              "      <td>Spain</td>\n",
              "      <td>0.083477</td>\n",
              "    </tr>\n",
              "    <tr>\n",
              "      <th>153</th>\n",
              "      <td>TD</td>\n",
              "      <td>2020-08-16</td>\n",
              "      <td>956</td>\n",
              "      <td>76</td>\n",
              "      <td>865</td>\n",
              "      <td>Chad</td>\n",
              "      <td>0.079498</td>\n",
              "    </tr>\n",
              "    <tr>\n",
              "      <th>23</th>\n",
              "      <td>CA</td>\n",
              "      <td>2020-08-16</td>\n",
              "      <td>124004</td>\n",
              "      <td>9074</td>\n",
              "      <td>110202</td>\n",
              "      <td>Canada</td>\n",
              "      <td>0.073175</td>\n",
              "    </tr>\n",
              "    <tr>\n",
              "      <th>33</th>\n",
              "      <td>SE</td>\n",
              "      <td>2020-08-16</td>\n",
              "      <td>84294</td>\n",
              "      <td>5783</td>\n",
              "      <td>0</td>\n",
              "      <td>Sweden</td>\n",
              "      <td>0.068605</td>\n",
              "    </tr>\n",
              "    <tr>\n",
              "      <th>145</th>\n",
              "      <td>LR</td>\n",
              "      <td>2020-08-16</td>\n",
              "      <td>1257</td>\n",
              "      <td>82</td>\n",
              "      <td>788</td>\n",
              "      <td>Liberia</td>\n",
              "      <td>0.065235</td>\n",
              "    </tr>\n",
              "    <tr>\n",
              "      <th>65</th>\n",
              "      <td>IE</td>\n",
              "      <td>2020-08-16</td>\n",
              "      <td>27257</td>\n",
              "      <td>1774</td>\n",
              "      <td>23364</td>\n",
              "      <td>Ireland</td>\n",
              "      <td>0.065084</td>\n",
              "    </tr>\n",
              "    <tr>\n",
              "      <th>80</th>\n",
              "      <td>SD</td>\n",
              "      <td>2020-08-16</td>\n",
              "      <td>12314</td>\n",
              "      <td>798</td>\n",
              "      <td>6350</td>\n",
              "      <td>Sudan</td>\n",
              "      <td>0.064804</td>\n",
              "    </tr>\n",
              "    <tr>\n",
              "      <th>157</th>\n",
              "      <td>SM</td>\n",
              "      <td>2020-08-16</td>\n",
              "      <td>699</td>\n",
              "      <td>42</td>\n",
              "      <td>657</td>\n",
              "      <td>San Marino</td>\n",
              "      <td>0.060086</td>\n",
              "    </tr>\n",
              "    <tr>\n",
              "      <th>26</th>\n",
              "      <td>EC</td>\n",
              "      <td>2020-08-16</td>\n",
              "      <td>101542</td>\n",
              "      <td>6070</td>\n",
              "      <td>87022</td>\n",
              "      <td>Ecuador</td>\n",
              "      <td>0.059778</td>\n",
              "    </tr>\n",
              "    <tr>\n",
              "      <th>148</th>\n",
              "      <td>NE</td>\n",
              "      <td>2020-08-16</td>\n",
              "      <td>1167</td>\n",
              "      <td>69</td>\n",
              "      <td>1078</td>\n",
              "      <td>Niger</td>\n",
              "      <td>0.059126</td>\n",
              "    </tr>\n",
              "    <tr>\n",
              "      <th>9</th>\n",
              "      <td>IR</td>\n",
              "      <td>2020-08-16</td>\n",
              "      <td>343203</td>\n",
              "      <td>19639</td>\n",
              "      <td>297486</td>\n",
              "      <td>Islamic Republic of Iran</td>\n",
              "      <td>0.057223</td>\n",
              "    </tr>\n",
              "  </tbody>\n",
              "</table>\n",
              "</div>"
            ],
            "text/plain": [
              "    country  ... fatality_ratio\n",
              "134      YE  ...       0.283574\n",
              "11       GB  ...       0.146065\n",
              "16       IT  ...       0.139401\n",
              "36       BE  ...       0.127586\n",
              "105      HU  ...       0.123678\n",
              "17       FR  ...       0.120214\n",
              "6        MX  ...       0.109217\n",
              "191      EH  ...       0.100000\n",
              "40       NL  ...       0.096104\n",
              "10       ES  ...       0.083477\n",
              "153      TD  ...       0.079498\n",
              "23       CA  ...       0.073175\n",
              "33       SE  ...       0.068605\n",
              "145      LR  ...       0.065235\n",
              "65       IE  ...       0.065084\n",
              "80       SD  ...       0.064804\n",
              "157      SM  ...       0.060086\n",
              "26       EC  ...       0.059778\n",
              "148      NE  ...       0.059126\n",
              "9        IR  ...       0.057223\n",
              "\n",
              "[20 rows x 7 columns]"
            ]
          },
          "metadata": {
            "tags": []
          },
          "execution_count": 9
        }
      ]
    },
    {
      "cell_type": "code",
      "metadata": {
        "id": "5U7XUG2Bqc4U",
        "colab_type": "code",
        "colab": {}
      },
      "source": [
        "# Data Visualization\n",
        "import matplotlib.pyplot as plt"
      ],
      "execution_count": 10,
      "outputs": []
    },
    {
      "cell_type": "code",
      "metadata": {
        "id": "v-Rhk9wmqc4b",
        "colab_type": "code",
        "colab": {
          "base_uri": "https://localhost:8080/",
          "height": 585
        },
        "outputId": "e07fdc67-626a-4db3-a9e1-01bfccaab108"
      },
      "source": [
        "#Using Bar Chart\n",
        "plt.figure(figsize=(10,8))\n",
        "x = df_top_20_fatality_rate['name']\n",
        "y = df_top_20_fatality_rate['fatality_ratio']\n",
        "plt.bar(x,y)\n",
        "plt.xlabel('Country Name')\n",
        "plt.ylabel('Fatality Rate')\n",
        "plt.title('Top 20 Highest Fatality Rate Countries')\n",
        "plt.xticks(rotation=90)\n",
        "plt.tight_layout()\n",
        "plt.show()"
      ],
      "execution_count": 11,
      "outputs": [
        {
          "output_type": "display_data",
          "data": {
            "image/png": "[encoded data removed]",
            "text/plain": [
              "<Figure size 720x576 with 1 Axes>"
            ]
          },
          "metadata": {
            "tags": [],
            "needs_background": "light"
          }
        }
      ]
    },
    {
      "cell_type": "code",
      "metadata": {
        "id": "4w80ZzvMqc4e",
        "colab_type": "code",
        "colab": {
          "base_uri": "https://localhost:8080/",
          "height": 585
        },
        "outputId": "294350ce-fa86-4cbf-cfe7-858fe014dea2"
      },
      "source": [
        "#Using Bar Chart\n",
        "plt.figure(figsize=(10,8))\n",
        "x = df_top_20_fatality_rate['name']\n",
        "y = df_top_20_fatality_rate['fatality_ratio']\n",
        "plt.bar(x,y)\n",
        "plt.xlabel('Country Name')\n",
        "plt.ylabel('Fatality Rate')\n",
        "plt.title('Top 20 Highest Fatality Rate Countries')\n",
        "plt.xticks(rotation=90)\n",
        "plt.tight_layout()\n",
        "plt.show()"
      ],
      "execution_count": 12,
      "outputs": [
        {
          "output_type": "display_data",
          "data": {
            "image/png": "[encoded data removed]",
            "text/plain": [
              "<Figure size 720x576 with 1 Axes>"
            ]
          },
          "metadata": {
            "tags": [],
            "needs_background": "light"
          }
        }
      ]
    },
    {
      "cell_type": "code",
      "metadata": {
        "id": "J1PDfmK_qc4g",
        "colab_type": "code",
        "colab": {
          "base_uri": "https://localhost:8080/",
          "height": 153
        },
        "outputId": "e0d0f770-ad3c-4d02-a662-2f192f8296cc"
      },
      "source": [
        "# Futhermore, comparing the covid19 cases in indonesia with neighboring countries,namely:\n",
        "# ME -> Malaysia,\n",
        "# SG -> Singapore,\n",
        "# TH -> Thailand,\n",
        "# VN -> Vietnam.\n",
        "\n",
        "countries = ['ID','MY','SG','TH','VN']\n",
        "i = 0\n",
        "for country in countries:\n",
        "    covid_timeline_url = 'https://covid19-api.org/api/timeline/'+country\n",
        "    df_covid_timeline = pd.io.json.json_normalize(get_json(covid_timeline_url))\n",
        "    df_covid_timeline['last_update'] = pd.to_datetime(df_covid_timeline['last_update'], format='%Y-%m-%dT%H:%M:%S')\n",
        "    df_covid_timeline['last_update'] = df_covid_timeline['last_update'].apply(lambda x: x.date())\n",
        "    \n",
        "    if i == 0 :\n",
        "        df_covid_timeline_merged = df_covid_timeline\n",
        "    else:\n",
        "        df_covid_timeline_merged = df_covid_timeline.append(df_covid_timeline_merged, ignore_index=True)\n",
        "    i += 1\n",
        "print(df_covid_timeline_merged.head())"
      ],
      "execution_count": 13,
      "outputs": [
        {
          "output_type": "stream",
          "text": [
            "  country last_update  cases  deaths  recovered\n",
            "0      VN  2020-08-28   1036      30        637\n",
            "1      VN  2020-08-27   1036      30        637\n",
            "2      VN  2020-08-26   1034      29        632\n",
            "3      VN  2020-08-25   1029      27        592\n",
            "4      VN  2020-08-24   1022      27        587\n"
          ],
          "name": "stdout"
        },
        {
          "output_type": "stream",
          "text": [
            "/usr/local/lib/python3.6/dist-packages/ipykernel_launcher.py:11: FutureWarning: pandas.io.json.json_normalize is deprecated, use pandas.json_normalize instead\n",
            "  # This is added back by InteractiveShellApp.init_path()\n"
          ],
          "name": "stderr"
        }
      ]
    },
    {
      "cell_type": "code",
      "metadata": {
        "id": "Kk-cKq-Sqc4j",
        "colab_type": "code",
        "colab": {
          "base_uri": "https://localhost:8080/",
          "height": 419
        },
        "outputId": "b3d296e9-ab5b-4375-f642-28b93bb7d377"
      },
      "source": [
        "## Merge covid data with country data\n",
        "df_covid_timeline_denormalized = pd.merge(df_covid_timeline_merged, df_countries, on='country')\n",
        "df_covid_timeline_denormalized "
      ],
      "execution_count": 14,
      "outputs": [
        {
          "output_type": "execute_result",
          "data": {
            "text/html": [
              "<div>\n",
              "<style scoped>\n",
              "    .dataframe tbody tr th:only-of-type {\n",
              "        vertical-align: middle;\n",
              "    }\n",
              "\n",
              "    .dataframe tbody tr th {\n",
              "        vertical-align: top;\n",
              "    }\n",
              "\n",
              "    .dataframe thead th {\n",
              "        text-align: right;\n",
              "    }\n",
              "</style>\n",
              "<table border=\"1\" class=\"dataframe\">\n",
              "  <thead>\n",
              "    <tr style=\"text-align: right;\">\n",
              "      <th></th>\n",
              "      <th>country</th>\n",
              "      <th>last_update</th>\n",
              "      <th>cases</th>\n",
              "      <th>deaths</th>\n",
              "      <th>recovered</th>\n",
              "      <th>name</th>\n",
              "    </tr>\n",
              "  </thead>\n",
              "  <tbody>\n",
              "    <tr>\n",
              "      <th>0</th>\n",
              "      <td>VN</td>\n",
              "      <td>2020-08-28</td>\n",
              "      <td>1036</td>\n",
              "      <td>30</td>\n",
              "      <td>637</td>\n",
              "      <td>Viet Nam</td>\n",
              "    </tr>\n",
              "    <tr>\n",
              "      <th>1</th>\n",
              "      <td>VN</td>\n",
              "      <td>2020-08-27</td>\n",
              "      <td>1036</td>\n",
              "      <td>30</td>\n",
              "      <td>637</td>\n",
              "      <td>Viet Nam</td>\n",
              "    </tr>\n",
              "    <tr>\n",
              "      <th>2</th>\n",
              "      <td>VN</td>\n",
              "      <td>2020-08-26</td>\n",
              "      <td>1034</td>\n",
              "      <td>29</td>\n",
              "      <td>632</td>\n",
              "      <td>Viet Nam</td>\n",
              "    </tr>\n",
              "    <tr>\n",
              "      <th>3</th>\n",
              "      <td>VN</td>\n",
              "      <td>2020-08-25</td>\n",
              "      <td>1029</td>\n",
              "      <td>27</td>\n",
              "      <td>592</td>\n",
              "      <td>Viet Nam</td>\n",
              "    </tr>\n",
              "    <tr>\n",
              "      <th>4</th>\n",
              "      <td>VN</td>\n",
              "      <td>2020-08-24</td>\n",
              "      <td>1022</td>\n",
              "      <td>27</td>\n",
              "      <td>587</td>\n",
              "      <td>Viet Nam</td>\n",
              "    </tr>\n",
              "    <tr>\n",
              "      <th>...</th>\n",
              "      <td>...</td>\n",
              "      <td>...</td>\n",
              "      <td>...</td>\n",
              "      <td>...</td>\n",
              "      <td>...</td>\n",
              "      <td>...</td>\n",
              "    </tr>\n",
              "    <tr>\n",
              "      <th>973</th>\n",
              "      <td>ID</td>\n",
              "      <td>2020-03-10</td>\n",
              "      <td>27</td>\n",
              "      <td>0</td>\n",
              "      <td>2</td>\n",
              "      <td>Indonesia</td>\n",
              "    </tr>\n",
              "    <tr>\n",
              "      <th>974</th>\n",
              "      <td>ID</td>\n",
              "      <td>2020-03-09</td>\n",
              "      <td>19</td>\n",
              "      <td>0</td>\n",
              "      <td>0</td>\n",
              "      <td>Indonesia</td>\n",
              "    </tr>\n",
              "    <tr>\n",
              "      <th>975</th>\n",
              "      <td>ID</td>\n",
              "      <td>2020-03-08</td>\n",
              "      <td>6</td>\n",
              "      <td>0</td>\n",
              "      <td>0</td>\n",
              "      <td>Indonesia</td>\n",
              "    </tr>\n",
              "    <tr>\n",
              "      <th>976</th>\n",
              "      <td>ID</td>\n",
              "      <td>2020-03-06</td>\n",
              "      <td>4</td>\n",
              "      <td>0</td>\n",
              "      <td>0</td>\n",
              "      <td>Indonesia</td>\n",
              "    </tr>\n",
              "    <tr>\n",
              "      <th>977</th>\n",
              "      <td>ID</td>\n",
              "      <td>2020-03-02</td>\n",
              "      <td>2</td>\n",
              "      <td>0</td>\n",
              "      <td>0</td>\n",
              "      <td>Indonesia</td>\n",
              "    </tr>\n",
              "  </tbody>\n",
              "</table>\n",
              "<p>978 rows × 6 columns</p>\n",
              "</div>"
            ],
            "text/plain": [
              "    country last_update  cases  deaths  recovered       name\n",
              "0        VN  2020-08-28   1036      30        637   Viet Nam\n",
              "1        VN  2020-08-27   1036      30        637   Viet Nam\n",
              "2        VN  2020-08-26   1034      29        632   Viet Nam\n",
              "3        VN  2020-08-25   1029      27        592   Viet Nam\n",
              "4        VN  2020-08-24   1022      27        587   Viet Nam\n",
              "..      ...         ...    ...     ...        ...        ...\n",
              "973      ID  2020-03-10     27       0          2  Indonesia\n",
              "974      ID  2020-03-09     19       0          0  Indonesia\n",
              "975      ID  2020-03-08      6       0          0  Indonesia\n",
              "976      ID  2020-03-06      4       0          0  Indonesia\n",
              "977      ID  2020-03-02      2       0          0  Indonesia\n",
              "\n",
              "[978 rows x 6 columns]"
            ]
          },
          "metadata": {
            "tags": []
          },
          "execution_count": 14
        }
      ]
    },
    {
      "cell_type": "code",
      "metadata": {
        "id": "I-UWxbeVqc4m",
        "colab_type": "code",
        "colab": {
          "base_uri": "https://localhost:8080/",
          "height": 419
        },
        "outputId": "21a506ca-a925-4499-a88f-302cb4c82afa"
      },
      "source": [
        "# Covid-19 cases in March 2020 - 28 August 2020\n",
        "import datetime\n",
        "df_covid_timeline_denormalized = df_covid_timeline_denormalized[(df_covid_timeline_denormalized['last_update'] >= datetime.date(2020,3,1))]\n",
        "df_covid_timeline_denormalized"
      ],
      "execution_count": 18,
      "outputs": [
        {
          "output_type": "execute_result",
          "data": {
            "text/html": [
              "<div>\n",
              "<style scoped>\n",
              "    .dataframe tbody tr th:only-of-type {\n",
              "        vertical-align: middle;\n",
              "    }\n",
              "\n",
              "    .dataframe tbody tr th {\n",
              "        vertical-align: top;\n",
              "    }\n",
              "\n",
              "    .dataframe thead th {\n",
              "        text-align: right;\n",
              "    }\n",
              "</style>\n",
              "<table border=\"1\" class=\"dataframe\">\n",
              "  <thead>\n",
              "    <tr style=\"text-align: right;\">\n",
              "      <th></th>\n",
              "      <th>country</th>\n",
              "      <th>last_update</th>\n",
              "      <th>cases</th>\n",
              "      <th>deaths</th>\n",
              "      <th>recovered</th>\n",
              "      <th>name</th>\n",
              "    </tr>\n",
              "  </thead>\n",
              "  <tbody>\n",
              "    <tr>\n",
              "      <th>0</th>\n",
              "      <td>VN</td>\n",
              "      <td>2020-08-28</td>\n",
              "      <td>1036</td>\n",
              "      <td>30</td>\n",
              "      <td>637</td>\n",
              "      <td>Viet Nam</td>\n",
              "    </tr>\n",
              "    <tr>\n",
              "      <th>1</th>\n",
              "      <td>VN</td>\n",
              "      <td>2020-08-27</td>\n",
              "      <td>1036</td>\n",
              "      <td>30</td>\n",
              "      <td>637</td>\n",
              "      <td>Viet Nam</td>\n",
              "    </tr>\n",
              "    <tr>\n",
              "      <th>2</th>\n",
              "      <td>VN</td>\n",
              "      <td>2020-08-26</td>\n",
              "      <td>1034</td>\n",
              "      <td>29</td>\n",
              "      <td>632</td>\n",
              "      <td>Viet Nam</td>\n",
              "    </tr>\n",
              "    <tr>\n",
              "      <th>3</th>\n",
              "      <td>VN</td>\n",
              "      <td>2020-08-25</td>\n",
              "      <td>1029</td>\n",
              "      <td>27</td>\n",
              "      <td>592</td>\n",
              "      <td>Viet Nam</td>\n",
              "    </tr>\n",
              "    <tr>\n",
              "      <th>4</th>\n",
              "      <td>VN</td>\n",
              "      <td>2020-08-24</td>\n",
              "      <td>1022</td>\n",
              "      <td>27</td>\n",
              "      <td>587</td>\n",
              "      <td>Viet Nam</td>\n",
              "    </tr>\n",
              "    <tr>\n",
              "      <th>...</th>\n",
              "      <td>...</td>\n",
              "      <td>...</td>\n",
              "      <td>...</td>\n",
              "      <td>...</td>\n",
              "      <td>...</td>\n",
              "      <td>...</td>\n",
              "    </tr>\n",
              "    <tr>\n",
              "      <th>973</th>\n",
              "      <td>ID</td>\n",
              "      <td>2020-03-10</td>\n",
              "      <td>27</td>\n",
              "      <td>0</td>\n",
              "      <td>2</td>\n",
              "      <td>Indonesia</td>\n",
              "    </tr>\n",
              "    <tr>\n",
              "      <th>974</th>\n",
              "      <td>ID</td>\n",
              "      <td>2020-03-09</td>\n",
              "      <td>19</td>\n",
              "      <td>0</td>\n",
              "      <td>0</td>\n",
              "      <td>Indonesia</td>\n",
              "    </tr>\n",
              "    <tr>\n",
              "      <th>975</th>\n",
              "      <td>ID</td>\n",
              "      <td>2020-03-08</td>\n",
              "      <td>6</td>\n",
              "      <td>0</td>\n",
              "      <td>0</td>\n",
              "      <td>Indonesia</td>\n",
              "    </tr>\n",
              "    <tr>\n",
              "      <th>976</th>\n",
              "      <td>ID</td>\n",
              "      <td>2020-03-06</td>\n",
              "      <td>4</td>\n",
              "      <td>0</td>\n",
              "      <td>0</td>\n",
              "      <td>Indonesia</td>\n",
              "    </tr>\n",
              "    <tr>\n",
              "      <th>977</th>\n",
              "      <td>ID</td>\n",
              "      <td>2020-03-02</td>\n",
              "      <td>2</td>\n",
              "      <td>0</td>\n",
              "      <td>0</td>\n",
              "      <td>Indonesia</td>\n",
              "    </tr>\n",
              "  </tbody>\n",
              "</table>\n",
              "<p>882 rows × 6 columns</p>\n",
              "</div>"
            ],
            "text/plain": [
              "    country last_update  cases  deaths  recovered       name\n",
              "0        VN  2020-08-28   1036      30        637   Viet Nam\n",
              "1        VN  2020-08-27   1036      30        637   Viet Nam\n",
              "2        VN  2020-08-26   1034      29        632   Viet Nam\n",
              "3        VN  2020-08-25   1029      27        592   Viet Nam\n",
              "4        VN  2020-08-24   1022      27        587   Viet Nam\n",
              "..      ...         ...    ...     ...        ...        ...\n",
              "973      ID  2020-03-10     27       0          2  Indonesia\n",
              "974      ID  2020-03-09     19       0          0  Indonesia\n",
              "975      ID  2020-03-08      6       0          0  Indonesia\n",
              "976      ID  2020-03-06      4       0          0  Indonesia\n",
              "977      ID  2020-03-02      2       0          0  Indonesia\n",
              "\n",
              "[882 rows x 6 columns]"
            ]
          },
          "metadata": {
            "tags": []
          },
          "execution_count": 18
        }
      ]
    },
    {
      "cell_type": "code",
      "metadata": {
        "id": "JjOhJiu6qc4p",
        "colab_type": "code",
        "colab": {
          "base_uri": "https://localhost:8080/",
          "height": 295
        },
        "outputId": "60e591c1-2ca1-4fa1-90f8-3bc35445888f"
      },
      "source": [
        "plt.clf()\n",
        "countries = ['ID','MY','SG','TH','VN']\n",
        "for country in countries:\n",
        "    country_data = df_covid_timeline_denormalized['country']== country\n",
        "    x = df_covid_timeline_denormalized[country_data]['last_update']\n",
        "    y = df_covid_timeline_denormalized[country_data]['cases']\n",
        "    plt.plot(x,y,label=country)\n",
        "    \n",
        "plt.legend()\n",
        "plt.xlabel('Record Date')\n",
        "plt.ylabel('Total Cases')\n",
        "plt.title('Asean Covid19 Cases Comparison')\n",
        "plt.show()"
      ],
      "execution_count": 19,
      "outputs": [
        {
          "output_type": "display_data",
          "data": {
            "image/png": "[encoded data removed]",
            "text/plain": [
              "<Figure size 432x288 with 1 Axes>"
            ]
          },
          "metadata": {
            "tags": [],
            "needs_background": "light"
          }
        }
      ]
    },
    {
      "cell_type": "code",
      "metadata": {
        "id": "2WBgXOXXqc4r",
        "colab_type": "code",
        "colab": {}
      },
      "source": [
        ""
      ],
      "execution_count": null,
      "outputs": []
    }
  ]
}